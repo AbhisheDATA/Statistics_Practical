{
 "cells": [
  {
   "cell_type": "markdown",
   "id": "249537e9-5465-44bf-8f6e-0f67e4c31cf8",
   "metadata": {},
   "source": [
    "# 1. EDA\n",
    "    1. Data Profiling\n",
    "    2. Stastical analysis\n",
    "    3. Graphical Analysis\n",
    "\n",
    "# 2. Feature Engineering\n",
    "    1. Handling Missing values\n",
    "    2. Encoding\n",
    "    3. Transformation\n",
    "    4. Handling outliers\n",
    "    5. Feature Scaling"
   ]
  },
  {
   "cell_type": "code",
   "execution_count": 23,
   "id": "bde8cc7a-9758-4b58-8f58-f9ffba33e97b",
   "metadata": {
    "tags": []
   },
   "outputs": [],
   "source": [
    "# importing required libraries for EDA\n",
    "# the main aim is to understand data in better way\n",
    "import pandas as pd\n",
    "import numpy as np\n",
    "import seaborn as sns\n",
    "import matplotlib.pyplot as plt\n",
    "import statistics as stat\n",
    "%matplotlib inline\n",
    "# To display maximum columns of dataframe on screen\n",
    "pd.pandas.set_option('display.max_columns', None)"
   ]
  },
  {
   "cell_type": "markdown",
   "id": "967cd0cd-4276-4c4f-b158-08f42a1715dd",
   "metadata": {},
   "source": [
    "# 1.0 Importing data set and gathering basic info about dataset"
   ]
  },
  {
   "cell_type": "code",
   "execution_count": 24,
   "id": "043ece2b-609b-48fb-a4ce-54d92ae4c1eb",
   "metadata": {
    "tags": []
   },
   "outputs": [
    {
     "data": {
      "text/html": [
       "<div>\n",
       "<style scoped>\n",
       "    .dataframe tbody tr th:only-of-type {\n",
       "        vertical-align: middle;\n",
       "    }\n",
       "\n",
       "    .dataframe tbody tr th {\n",
       "        vertical-align: top;\n",
       "    }\n",
       "\n",
       "    .dataframe thead th {\n",
       "        text-align: right;\n",
       "    }\n",
       "</style>\n",
       "<table border=\"1\" class=\"dataframe\">\n",
       "  <thead>\n",
       "    <tr style=\"text-align: right;\">\n",
       "      <th></th>\n",
       "      <th>CustomerID</th>\n",
       "      <th>ProdTaken</th>\n",
       "      <th>Age</th>\n",
       "      <th>TypeofContact</th>\n",
       "      <th>CityTier</th>\n",
       "      <th>DurationOfPitch</th>\n",
       "      <th>Occupation</th>\n",
       "      <th>Gender</th>\n",
       "      <th>NumberOfPersonVisiting</th>\n",
       "      <th>NumberOfFollowups</th>\n",
       "      <th>ProductPitched</th>\n",
       "      <th>PreferredPropertyStar</th>\n",
       "      <th>MaritalStatus</th>\n",
       "      <th>NumberOfTrips</th>\n",
       "      <th>Passport</th>\n",
       "      <th>PitchSatisfactionScore</th>\n",
       "      <th>OwnCar</th>\n",
       "      <th>NumberOfChildrenVisiting</th>\n",
       "      <th>Designation</th>\n",
       "      <th>MonthlyIncome</th>\n",
       "    </tr>\n",
       "  </thead>\n",
       "  <tbody>\n",
       "    <tr>\n",
       "      <th>0</th>\n",
       "      <td>200000</td>\n",
       "      <td>1</td>\n",
       "      <td>41.0</td>\n",
       "      <td>Self Enquiry</td>\n",
       "      <td>3</td>\n",
       "      <td>6.0</td>\n",
       "      <td>Salaried</td>\n",
       "      <td>Female</td>\n",
       "      <td>3</td>\n",
       "      <td>3.0</td>\n",
       "      <td>Deluxe</td>\n",
       "      <td>3.0</td>\n",
       "      <td>Single</td>\n",
       "      <td>1.0</td>\n",
       "      <td>1</td>\n",
       "      <td>2</td>\n",
       "      <td>1</td>\n",
       "      <td>0.0</td>\n",
       "      <td>Manager</td>\n",
       "      <td>20993.0</td>\n",
       "    </tr>\n",
       "    <tr>\n",
       "      <th>1</th>\n",
       "      <td>200001</td>\n",
       "      <td>0</td>\n",
       "      <td>49.0</td>\n",
       "      <td>Company Invited</td>\n",
       "      <td>1</td>\n",
       "      <td>14.0</td>\n",
       "      <td>Salaried</td>\n",
       "      <td>Male</td>\n",
       "      <td>3</td>\n",
       "      <td>4.0</td>\n",
       "      <td>Deluxe</td>\n",
       "      <td>4.0</td>\n",
       "      <td>Divorced</td>\n",
       "      <td>2.0</td>\n",
       "      <td>0</td>\n",
       "      <td>3</td>\n",
       "      <td>1</td>\n",
       "      <td>2.0</td>\n",
       "      <td>Manager</td>\n",
       "      <td>20130.0</td>\n",
       "    </tr>\n",
       "    <tr>\n",
       "      <th>2</th>\n",
       "      <td>200002</td>\n",
       "      <td>1</td>\n",
       "      <td>37.0</td>\n",
       "      <td>Self Enquiry</td>\n",
       "      <td>1</td>\n",
       "      <td>8.0</td>\n",
       "      <td>Free Lancer</td>\n",
       "      <td>Male</td>\n",
       "      <td>3</td>\n",
       "      <td>4.0</td>\n",
       "      <td>Basic</td>\n",
       "      <td>3.0</td>\n",
       "      <td>Single</td>\n",
       "      <td>7.0</td>\n",
       "      <td>1</td>\n",
       "      <td>3</td>\n",
       "      <td>0</td>\n",
       "      <td>0.0</td>\n",
       "      <td>Executive</td>\n",
       "      <td>17090.0</td>\n",
       "    </tr>\n",
       "    <tr>\n",
       "      <th>3</th>\n",
       "      <td>200003</td>\n",
       "      <td>0</td>\n",
       "      <td>33.0</td>\n",
       "      <td>Company Invited</td>\n",
       "      <td>1</td>\n",
       "      <td>9.0</td>\n",
       "      <td>Salaried</td>\n",
       "      <td>Female</td>\n",
       "      <td>2</td>\n",
       "      <td>3.0</td>\n",
       "      <td>Basic</td>\n",
       "      <td>3.0</td>\n",
       "      <td>Divorced</td>\n",
       "      <td>2.0</td>\n",
       "      <td>1</td>\n",
       "      <td>5</td>\n",
       "      <td>1</td>\n",
       "      <td>1.0</td>\n",
       "      <td>Executive</td>\n",
       "      <td>17909.0</td>\n",
       "    </tr>\n",
       "    <tr>\n",
       "      <th>4</th>\n",
       "      <td>200004</td>\n",
       "      <td>0</td>\n",
       "      <td>NaN</td>\n",
       "      <td>Self Enquiry</td>\n",
       "      <td>1</td>\n",
       "      <td>8.0</td>\n",
       "      <td>Small Business</td>\n",
       "      <td>Male</td>\n",
       "      <td>2</td>\n",
       "      <td>3.0</td>\n",
       "      <td>Basic</td>\n",
       "      <td>4.0</td>\n",
       "      <td>Divorced</td>\n",
       "      <td>1.0</td>\n",
       "      <td>0</td>\n",
       "      <td>5</td>\n",
       "      <td>1</td>\n",
       "      <td>0.0</td>\n",
       "      <td>Executive</td>\n",
       "      <td>18468.0</td>\n",
       "    </tr>\n",
       "  </tbody>\n",
       "</table>\n",
       "</div>"
      ],
      "text/plain": [
       "   CustomerID  ProdTaken   Age    TypeofContact  CityTier  DurationOfPitch  \\\n",
       "0      200000          1  41.0     Self Enquiry         3              6.0   \n",
       "1      200001          0  49.0  Company Invited         1             14.0   \n",
       "2      200002          1  37.0     Self Enquiry         1              8.0   \n",
       "3      200003          0  33.0  Company Invited         1              9.0   \n",
       "4      200004          0   NaN     Self Enquiry         1              8.0   \n",
       "\n",
       "       Occupation  Gender  NumberOfPersonVisiting  NumberOfFollowups  \\\n",
       "0        Salaried  Female                       3                3.0   \n",
       "1        Salaried    Male                       3                4.0   \n",
       "2     Free Lancer    Male                       3                4.0   \n",
       "3        Salaried  Female                       2                3.0   \n",
       "4  Small Business    Male                       2                3.0   \n",
       "\n",
       "  ProductPitched  PreferredPropertyStar MaritalStatus  NumberOfTrips  \\\n",
       "0         Deluxe                    3.0        Single            1.0   \n",
       "1         Deluxe                    4.0      Divorced            2.0   \n",
       "2          Basic                    3.0        Single            7.0   \n",
       "3          Basic                    3.0      Divorced            2.0   \n",
       "4          Basic                    4.0      Divorced            1.0   \n",
       "\n",
       "   Passport  PitchSatisfactionScore  OwnCar  NumberOfChildrenVisiting  \\\n",
       "0         1                       2       1                       0.0   \n",
       "1         0                       3       1                       2.0   \n",
       "2         1                       3       0                       0.0   \n",
       "3         1                       5       1                       1.0   \n",
       "4         0                       5       1                       0.0   \n",
       "\n",
       "  Designation  MonthlyIncome  \n",
       "0     Manager        20993.0  \n",
       "1     Manager        20130.0  \n",
       "2   Executive        17090.0  \n",
       "3   Executive        17909.0  \n",
       "4   Executive        18468.0  "
      ]
     },
     "execution_count": 24,
     "metadata": {},
     "output_type": "execute_result"
    }
   ],
   "source": [
    "# importing dataset and displaying top 5 rows\n",
    "dataset=pd.read_csv('Travel.csv')\n",
    "dataset.head()"
   ]
  },
  {
   "cell_type": "code",
   "execution_count": 25,
   "id": "25982c38-4d35-4378-ab81-2d2b94bbadc4",
   "metadata": {
    "tags": []
   },
   "outputs": [
    {
     "name": "stdout",
     "output_type": "stream",
     "text": [
      "<class 'pandas.core.frame.DataFrame'>\n",
      "RangeIndex: 4888 entries, 0 to 4887\n",
      "Data columns (total 20 columns):\n",
      " #   Column                    Non-Null Count  Dtype  \n",
      "---  ------                    --------------  -----  \n",
      " 0   CustomerID                4888 non-null   int64  \n",
      " 1   ProdTaken                 4888 non-null   int64  \n",
      " 2   Age                       4662 non-null   float64\n",
      " 3   TypeofContact             4863 non-null   object \n",
      " 4   CityTier                  4888 non-null   int64  \n",
      " 5   DurationOfPitch           4637 non-null   float64\n",
      " 6   Occupation                4888 non-null   object \n",
      " 7   Gender                    4888 non-null   object \n",
      " 8   NumberOfPersonVisiting    4888 non-null   int64  \n",
      " 9   NumberOfFollowups         4843 non-null   float64\n",
      " 10  ProductPitched            4888 non-null   object \n",
      " 11  PreferredPropertyStar     4862 non-null   float64\n",
      " 12  MaritalStatus             4888 non-null   object \n",
      " 13  NumberOfTrips             4748 non-null   float64\n",
      " 14  Passport                  4888 non-null   int64  \n",
      " 15  PitchSatisfactionScore    4888 non-null   int64  \n",
      " 16  OwnCar                    4888 non-null   int64  \n",
      " 17  NumberOfChildrenVisiting  4822 non-null   float64\n",
      " 18  Designation               4888 non-null   object \n",
      " 19  MonthlyIncome             4655 non-null   float64\n",
      "dtypes: float64(7), int64(7), object(6)\n",
      "memory usage: 763.9+ KB\n"
     ]
    }
   ],
   "source": [
    "dataset.info()"
   ]
  },
  {
   "cell_type": "markdown",
   "id": "8d0ddbb7-856a-487a-be66-1a39b80a5ae4",
   "metadata": {},
   "source": [
    "### Observation\n",
    "1. There is total 4888 rows and 20 columns.\n",
    "2. There is total 3 data types float64, int64 and object."
   ]
  },
  {
   "cell_type": "markdown",
   "id": "1c5bdadb-76a0-4043-86e7-0d690c063d35",
   "metadata": {},
   "source": [
    "## 1.1 Seperating numerical and categorical data"
   ]
  },
  {
   "cell_type": "markdown",
   "id": "c30bb6c2-0883-4b32-898e-c6925a3b9fcf",
   "metadata": {},
   "source": [
    "## 1.1.1 Numerical dataset"
   ]
  },
  {
   "cell_type": "code",
   "execution_count": 26,
   "id": "1aa14cf6-dc13-4377-aa30-28181ac72bfd",
   "metadata": {
    "tags": []
   },
   "outputs": [
    {
     "data": {
      "text/html": [
       "<div>\n",
       "<style scoped>\n",
       "    .dataframe tbody tr th:only-of-type {\n",
       "        vertical-align: middle;\n",
       "    }\n",
       "\n",
       "    .dataframe tbody tr th {\n",
       "        vertical-align: top;\n",
       "    }\n",
       "\n",
       "    .dataframe thead th {\n",
       "        text-align: right;\n",
       "    }\n",
       "</style>\n",
       "<table border=\"1\" class=\"dataframe\">\n",
       "  <thead>\n",
       "    <tr style=\"text-align: right;\">\n",
       "      <th></th>\n",
       "      <th>ProdTaken</th>\n",
       "      <th>Age</th>\n",
       "      <th>CityTier</th>\n",
       "      <th>DurationOfPitch</th>\n",
       "      <th>NumberOfPersonVisiting</th>\n",
       "      <th>NumberOfFollowups</th>\n",
       "      <th>PreferredPropertyStar</th>\n",
       "      <th>NumberOfTrips</th>\n",
       "      <th>Passport</th>\n",
       "      <th>PitchSatisfactionScore</th>\n",
       "      <th>OwnCar</th>\n",
       "      <th>NumberOfChildrenVisiting</th>\n",
       "      <th>MonthlyIncome</th>\n",
       "    </tr>\n",
       "  </thead>\n",
       "  <tbody>\n",
       "    <tr>\n",
       "      <th>0</th>\n",
       "      <td>1</td>\n",
       "      <td>41.0</td>\n",
       "      <td>3</td>\n",
       "      <td>6.0</td>\n",
       "      <td>3</td>\n",
       "      <td>3.0</td>\n",
       "      <td>3.0</td>\n",
       "      <td>1.0</td>\n",
       "      <td>1</td>\n",
       "      <td>2</td>\n",
       "      <td>1</td>\n",
       "      <td>0.0</td>\n",
       "      <td>20993.0</td>\n",
       "    </tr>\n",
       "    <tr>\n",
       "      <th>1</th>\n",
       "      <td>0</td>\n",
       "      <td>49.0</td>\n",
       "      <td>1</td>\n",
       "      <td>14.0</td>\n",
       "      <td>3</td>\n",
       "      <td>4.0</td>\n",
       "      <td>4.0</td>\n",
       "      <td>2.0</td>\n",
       "      <td>0</td>\n",
       "      <td>3</td>\n",
       "      <td>1</td>\n",
       "      <td>2.0</td>\n",
       "      <td>20130.0</td>\n",
       "    </tr>\n",
       "    <tr>\n",
       "      <th>2</th>\n",
       "      <td>1</td>\n",
       "      <td>37.0</td>\n",
       "      <td>1</td>\n",
       "      <td>8.0</td>\n",
       "      <td>3</td>\n",
       "      <td>4.0</td>\n",
       "      <td>3.0</td>\n",
       "      <td>7.0</td>\n",
       "      <td>1</td>\n",
       "      <td>3</td>\n",
       "      <td>0</td>\n",
       "      <td>0.0</td>\n",
       "      <td>17090.0</td>\n",
       "    </tr>\n",
       "    <tr>\n",
       "      <th>3</th>\n",
       "      <td>0</td>\n",
       "      <td>33.0</td>\n",
       "      <td>1</td>\n",
       "      <td>9.0</td>\n",
       "      <td>2</td>\n",
       "      <td>3.0</td>\n",
       "      <td>3.0</td>\n",
       "      <td>2.0</td>\n",
       "      <td>1</td>\n",
       "      <td>5</td>\n",
       "      <td>1</td>\n",
       "      <td>1.0</td>\n",
       "      <td>17909.0</td>\n",
       "    </tr>\n",
       "    <tr>\n",
       "      <th>4</th>\n",
       "      <td>0</td>\n",
       "      <td>NaN</td>\n",
       "      <td>1</td>\n",
       "      <td>8.0</td>\n",
       "      <td>2</td>\n",
       "      <td>3.0</td>\n",
       "      <td>4.0</td>\n",
       "      <td>1.0</td>\n",
       "      <td>0</td>\n",
       "      <td>5</td>\n",
       "      <td>1</td>\n",
       "      <td>0.0</td>\n",
       "      <td>18468.0</td>\n",
       "    </tr>\n",
       "  </tbody>\n",
       "</table>\n",
       "</div>"
      ],
      "text/plain": [
       "   ProdTaken   Age  CityTier  DurationOfPitch  NumberOfPersonVisiting  \\\n",
       "0          1  41.0         3              6.0                       3   \n",
       "1          0  49.0         1             14.0                       3   \n",
       "2          1  37.0         1              8.0                       3   \n",
       "3          0  33.0         1              9.0                       2   \n",
       "4          0   NaN         1              8.0                       2   \n",
       "\n",
       "   NumberOfFollowups  PreferredPropertyStar  NumberOfTrips  Passport  \\\n",
       "0                3.0                    3.0            1.0         1   \n",
       "1                4.0                    4.0            2.0         0   \n",
       "2                4.0                    3.0            7.0         1   \n",
       "3                3.0                    3.0            2.0         1   \n",
       "4                3.0                    4.0            1.0         0   \n",
       "\n",
       "   PitchSatisfactionScore  OwnCar  NumberOfChildrenVisiting  MonthlyIncome  \n",
       "0                       2       1                       0.0        20993.0  \n",
       "1                       3       1                       2.0        20130.0  \n",
       "2                       3       0                       0.0        17090.0  \n",
       "3                       5       1                       1.0        17909.0  \n",
       "4                       5       1                       0.0        18468.0  "
      ]
     },
     "execution_count": 26,
     "metadata": {},
     "output_type": "execute_result"
    }
   ],
   "source": [
    "# 1. Getting Numerical features from dataset \n",
    "# 2. Creating Numerical dataframe\n",
    "numerical_features=[feature for feature in dataset.columns if dataset[feature].dtypes!='O' and feature not in ['CustomerID']]\n",
    "data_numerical=dataset[numerical_features]\n",
    "data_numerical.head()"
   ]
  },
  {
   "cell_type": "markdown",
   "id": "f8ea7dc4-a07b-48d1-be94-f2833ca549ef",
   "metadata": {},
   "source": [
    "### 1.1.1.1 Discrete Numerical features"
   ]
  },
  {
   "cell_type": "code",
   "execution_count": 27,
   "id": "f06440a1-7b8d-4c84-919c-a72e3a78cd3c",
   "metadata": {
    "tags": []
   },
   "outputs": [
    {
     "name": "stdout",
     "output_type": "stream",
     "text": [
      "['ProdTaken', 'CityTier', 'NumberOfPersonVisiting', 'NumberOfFollowups', 'PreferredPropertyStar', 'NumberOfTrips', 'Passport', 'PitchSatisfactionScore', 'OwnCar', 'NumberOfChildrenVisiting']\n"
     ]
    },
    {
     "data": {
      "text/plain": [
       "10"
      ]
     },
     "execution_count": 27,
     "metadata": {},
     "output_type": "execute_result"
    }
   ],
   "source": [
    "discrete_features=[feature for feature in numerical_features if len(data_numerical[feature].unique())<25 ]\n",
    "print(discrete_features)\n",
    "len(discrete_features)"
   ]
  },
  {
   "cell_type": "markdown",
   "id": "c7fa4d32-07c3-4700-95db-aafff7d4f0a2",
   "metadata": {},
   "source": [
    "### 1.1.1.2 Continuous Numerical features\n"
   ]
  },
  {
   "cell_type": "code",
   "execution_count": 28,
   "id": "d2cf1afd-8220-44b2-bd5d-293333e9f15a",
   "metadata": {
    "tags": []
   },
   "outputs": [
    {
     "name": "stdout",
     "output_type": "stream",
     "text": [
      "['Age', 'DurationOfPitch', 'MonthlyIncome']\n"
     ]
    },
    {
     "data": {
      "text/plain": [
       "3"
      ]
     },
     "execution_count": 28,
     "metadata": {},
     "output_type": "execute_result"
    }
   ],
   "source": [
    "continuous_features=[feature for feature in numerical_features if len(data_numerical[feature].unique())>25 ]\n",
    "print(continuous_features)\n",
    "len(continuous_features)"
   ]
  },
  {
   "cell_type": "markdown",
   "id": "b8a9e721-fc17-40fc-bfb9-13021f0a4b8b",
   "metadata": {},
   "source": [
    "## 1.1.2 Categorical dataset"
   ]
  },
  {
   "cell_type": "code",
   "execution_count": 29,
   "id": "b4438ca1-88bb-4a2b-9fa9-e7d2d3fda52f",
   "metadata": {
    "tags": []
   },
   "outputs": [
    {
     "data": {
      "text/html": [
       "<div>\n",
       "<style scoped>\n",
       "    .dataframe tbody tr th:only-of-type {\n",
       "        vertical-align: middle;\n",
       "    }\n",
       "\n",
       "    .dataframe tbody tr th {\n",
       "        vertical-align: top;\n",
       "    }\n",
       "\n",
       "    .dataframe thead th {\n",
       "        text-align: right;\n",
       "    }\n",
       "</style>\n",
       "<table border=\"1\" class=\"dataframe\">\n",
       "  <thead>\n",
       "    <tr style=\"text-align: right;\">\n",
       "      <th></th>\n",
       "      <th>TypeofContact</th>\n",
       "      <th>Occupation</th>\n",
       "      <th>Gender</th>\n",
       "      <th>ProductPitched</th>\n",
       "      <th>MaritalStatus</th>\n",
       "      <th>Designation</th>\n",
       "    </tr>\n",
       "  </thead>\n",
       "  <tbody>\n",
       "    <tr>\n",
       "      <th>0</th>\n",
       "      <td>Self Enquiry</td>\n",
       "      <td>Salaried</td>\n",
       "      <td>Female</td>\n",
       "      <td>Deluxe</td>\n",
       "      <td>Single</td>\n",
       "      <td>Manager</td>\n",
       "    </tr>\n",
       "    <tr>\n",
       "      <th>1</th>\n",
       "      <td>Company Invited</td>\n",
       "      <td>Salaried</td>\n",
       "      <td>Male</td>\n",
       "      <td>Deluxe</td>\n",
       "      <td>Divorced</td>\n",
       "      <td>Manager</td>\n",
       "    </tr>\n",
       "    <tr>\n",
       "      <th>2</th>\n",
       "      <td>Self Enquiry</td>\n",
       "      <td>Free Lancer</td>\n",
       "      <td>Male</td>\n",
       "      <td>Basic</td>\n",
       "      <td>Single</td>\n",
       "      <td>Executive</td>\n",
       "    </tr>\n",
       "    <tr>\n",
       "      <th>3</th>\n",
       "      <td>Company Invited</td>\n",
       "      <td>Salaried</td>\n",
       "      <td>Female</td>\n",
       "      <td>Basic</td>\n",
       "      <td>Divorced</td>\n",
       "      <td>Executive</td>\n",
       "    </tr>\n",
       "    <tr>\n",
       "      <th>4</th>\n",
       "      <td>Self Enquiry</td>\n",
       "      <td>Small Business</td>\n",
       "      <td>Male</td>\n",
       "      <td>Basic</td>\n",
       "      <td>Divorced</td>\n",
       "      <td>Executive</td>\n",
       "    </tr>\n",
       "  </tbody>\n",
       "</table>\n",
       "</div>"
      ],
      "text/plain": [
       "     TypeofContact      Occupation  Gender ProductPitched MaritalStatus  \\\n",
       "0     Self Enquiry        Salaried  Female         Deluxe        Single   \n",
       "1  Company Invited        Salaried    Male         Deluxe      Divorced   \n",
       "2     Self Enquiry     Free Lancer    Male          Basic        Single   \n",
       "3  Company Invited        Salaried  Female          Basic      Divorced   \n",
       "4     Self Enquiry  Small Business    Male          Basic      Divorced   \n",
       "\n",
       "  Designation  \n",
       "0     Manager  \n",
       "1     Manager  \n",
       "2   Executive  \n",
       "3   Executive  \n",
       "4   Executive  "
      ]
     },
     "execution_count": 29,
     "metadata": {},
     "output_type": "execute_result"
    }
   ],
   "source": [
    "# 1. Getting categorical features from dataset \n",
    "# 2. Creating categorical dataframe\n",
    "categorical_features=[feature for feature in dataset.columns if dataset[feature].dtypes=='O' and feature not in ['CustomerID']]\n",
    "data_categorical=dataset[categorical_features]\n",
    "data_categorical.head()"
   ]
  },
  {
   "cell_type": "code",
   "execution_count": 30,
   "id": "a9211d04-20dc-4367-9f23-cb395fdfb50f",
   "metadata": {
    "tags": []
   },
   "outputs": [
    {
     "name": "stdout",
     "output_type": "stream",
     "text": [
      "The feature is 'TypeofContact' and number of categories are '3'\n",
      "The feature is 'Occupation' and number of categories are '4'\n",
      "The feature is 'Gender' and number of categories are '3'\n",
      "The feature is 'ProductPitched' and number of categories are '5'\n",
      "The feature is 'MaritalStatus' and number of categories are '4'\n",
      "The feature is 'Designation' and number of categories are '5'\n"
     ]
    }
   ],
   "source": [
    "# Getting unique categories for each features in categorical features\n",
    "for feature in categorical_features:\n",
    " print(\"The feature is '{}' and number of categories are '{}'\".format(feature, len(dataset[feature].unique())))"
   ]
  },
  {
   "cell_type": "markdown",
   "id": "a2fec1d7-17ee-41e0-b568-16450c3902a9",
   "metadata": {},
   "source": [
    "## 1.3 Misssing values"
   ]
  },
  {
   "cell_type": "code",
   "execution_count": 31,
   "id": "e9294806-1efa-448b-bb16-0075dd364186",
   "metadata": {
    "tags": []
   },
   "outputs": [
    {
     "name": "stdout",
     "output_type": "stream",
     "text": [
      "['Age', 'TypeofContact', 'DurationOfPitch', 'NumberOfFollowups', 'PreferredPropertyStar', 'NumberOfTrips', 'NumberOfChildrenVisiting', 'MonthlyIncome']\n"
     ]
    }
   ],
   "source": [
    "# getting features with missing values\n",
    "feature_nan=[feature for feature in dataset.columns if dataset[feature].isnull().sum()>1 ]\n",
    "print(feature_nan)"
   ]
  },
  {
   "cell_type": "code",
   "execution_count": 35,
   "id": "d3725968-f238-412a-b3c3-b16f430cefbc",
   "metadata": {
    "tags": []
   },
   "outputs": [
    {
     "name": "stdout",
     "output_type": "stream",
     "text": [
      "Age has 226 null values\n",
      "TypeofContact has 25 null values\n",
      "DurationOfPitch has 251 null values\n",
      "NumberOfFollowups has 45 null values\n",
      "PreferredPropertyStar has 26 null values\n",
      "NumberOfTrips has 140 null values\n",
      "NumberOfChildrenVisiting has 66 null values\n",
      "MonthlyIncome has 233 null values\n"
     ]
    }
   ],
   "source": [
    "for feature in feature_nan:\n",
    "    print(f\"{feature} has {dataset[feature].isnull().sum()} null values\")"
   ]
  },
  {
   "cell_type": "code",
   "execution_count": 36,
   "id": "79ac4a00-e425-4853-a88a-d1bc03996cc9",
   "metadata": {
    "tags": []
   },
   "outputs": [
    {
     "name": "stdout",
     "output_type": "stream",
     "text": [
      "Age has 4.624 % of missing values\n",
      "TypeofContact has 0.511 % of missing values\n",
      "DurationOfPitch has 5.135 % of missing values\n",
      "NumberOfFollowups has 0.921 % of missing values\n",
      "PreferredPropertyStar has 0.532 % of missing values\n",
      "NumberOfTrips has 2.864 % of missing values\n",
      "NumberOfChildrenVisiting has 1.35 % of missing values\n",
      "MonthlyIncome has 4.767 % of missing values\n"
     ]
    }
   ],
   "source": [
    "# Getting percentage of missing values for individual features\n",
    "for feature in feature_nan:\n",
    " print(\"{} has {} % of missing values\".format(feature, np.round((dataset[feature].isnull().mean())*100,3)))"
   ]
  },
  {
   "cell_type": "markdown",
   "id": "661ac1f3-f0dc-46c1-8017-2cd925a60281",
   "metadata": {},
   "source": [
    "# 2.0 Statistical analysis\n",
    "## 2.1 Numerical dataset\n",
    "### 2.1.1 Mean, Median and Mode for numerical dataset"
   ]
  },
  {
   "cell_type": "code",
   "execution_count": 37,
   "id": "affa2f5d-a3fb-4eb1-9924-b37c5384d0b7",
   "metadata": {
    "tags": []
   },
   "outputs": [
    {
     "data": {
      "text/plain": [
       "ProdTaken                       0.188216\n",
       "Age                            37.622265\n",
       "CityTier                        1.654255\n",
       "DurationOfPitch                15.490835\n",
       "NumberOfPersonVisiting          2.905074\n",
       "NumberOfFollowups               3.708445\n",
       "PreferredPropertyStar           3.581037\n",
       "NumberOfTrips                   3.236521\n",
       "Passport                        0.290917\n",
       "PitchSatisfactionScore          3.078151\n",
       "OwnCar                          0.620295\n",
       "NumberOfChildrenVisiting        1.187267\n",
       "MonthlyIncome               23619.853491\n",
       "dtype: float64"
      ]
     },
     "execution_count": 37,
     "metadata": {},
     "output_type": "execute_result"
    }
   ],
   "source": [
    "# mean of individual features\n",
    "data_numerical.mean()"
   ]
  },
  {
   "cell_type": "code",
   "execution_count": 39,
   "id": "c47c2e16-196a-4593-94ce-91f4ff3aebe2",
   "metadata": {
    "tags": []
   },
   "outputs": [
    {
     "data": {
      "text/plain": [
       "ProdTaken                       0.0\n",
       "Age                            36.0\n",
       "CityTier                        1.0\n",
       "DurationOfPitch                13.0\n",
       "NumberOfPersonVisiting          3.0\n",
       "NumberOfFollowups               4.0\n",
       "PreferredPropertyStar           3.0\n",
       "NumberOfTrips                   3.0\n",
       "Passport                        0.0\n",
       "PitchSatisfactionScore          3.0\n",
       "OwnCar                          1.0\n",
       "NumberOfChildrenVisiting        1.0\n",
       "MonthlyIncome               22347.0\n",
       "dtype: float64"
      ]
     },
     "execution_count": 39,
     "metadata": {},
     "output_type": "execute_result"
    }
   ],
   "source": [
    "# median of individual features\n",
    "data_numerical.median()"
   ]
  },
  {
   "cell_type": "code",
   "execution_count": 40,
   "id": "0e0d291d-2f5d-48aa-a1a4-92c53c7bb683",
   "metadata": {
    "tags": []
   },
   "outputs": [
    {
     "data": {
      "text/plain": [
       "ProdTaken                       0.0\n",
       "Age                            35.0\n",
       "CityTier                        1.0\n",
       "DurationOfPitch                 9.0\n",
       "NumberOfPersonVisiting          3.0\n",
       "NumberOfFollowups               4.0\n",
       "PreferredPropertyStar           3.0\n",
       "NumberOfTrips                   2.0\n",
       "Passport                        0.0\n",
       "PitchSatisfactionScore          3.0\n",
       "OwnCar                          1.0\n",
       "NumberOfChildrenVisiting        1.0\n",
       "MonthlyIncome               17342.0\n",
       "Name: 0, dtype: float64"
      ]
     },
     "execution_count": 40,
     "metadata": {},
     "output_type": "execute_result"
    }
   ],
   "source": [
    "# mode of individual features\n",
    "data_numerical.mode().loc[0]"
   ]
  },
  {
   "cell_type": "code",
   "execution_count": 41,
   "id": "33964ba8-900e-4544-aaee-28223b9abe61",
   "metadata": {
    "tags": []
   },
   "outputs": [
    {
     "name": "stdout",
     "output_type": "stream",
     "text": [
      "ProdTaken : 0\n",
      "Age : 35.0\n",
      "CityTier : 1\n",
      "DurationOfPitch : 9.0\n",
      "NumberOfPersonVisiting : 3\n",
      "NumberOfFollowups : 4.0\n",
      "PreferredPropertyStar : 3.0\n",
      "NumberOfTrips : 2.0\n",
      "Passport : 0\n",
      "PitchSatisfactionScore : 3\n",
      "OwnCar : 1\n",
      "NumberOfChildrenVisiting : 1.0\n",
      "MonthlyIncome : 17342.0\n"
     ]
    }
   ],
   "source": [
    "# verifying modes\n",
    "for feature in data_numerical.columns:\n",
    " print(feature,\":\",stat.mode(data_numerical[feature]))"
   ]
  },
  {
   "cell_type": "markdown",
   "id": "1f80729a-dd84-445b-ae92-91320d5fd585",
   "metadata": {},
   "source": [
    "## 2.1.2 Varience and Standard deviation for numerical dataset"
   ]
  },
  {
   "cell_type": "code",
   "execution_count": 42,
   "id": "12c154d7-a9ec-4e55-805e-261baad970fb",
   "metadata": {
    "tags": []
   },
   "outputs": [
    {
     "data": {
      "text/plain": [
       "ProdTaken                          0.15\n",
       "Age                               86.80\n",
       "CityTier                           0.84\n",
       "DurationOfPitch                   72.58\n",
       "NumberOfPersonVisiting             0.53\n",
       "NumberOfFollowups                  1.01\n",
       "PreferredPropertyStar              0.64\n",
       "NumberOfTrips                      3.42\n",
       "Passport                           0.21\n",
       "PitchSatisfactionScore             1.87\n",
       "OwnCar                             0.24\n",
       "NumberOfChildrenVisiting           0.74\n",
       "MonthlyIncome               28951914.85\n",
       "dtype: float64"
      ]
     },
     "execution_count": 42,
     "metadata": {},
     "output_type": "execute_result"
    }
   ],
   "source": [
    "# varience for individual features\n",
    "round(data_numerical.var(),2)"
   ]
  },
  {
   "cell_type": "code",
   "execution_count": 44,
   "id": "b409d80e-877c-4fc5-aa40-b6e15f5f0462",
   "metadata": {
    "tags": []
   },
   "outputs": [
    {
     "data": {
      "text/plain": [
       "ProdTaken                      0.390925\n",
       "Age                            9.316387\n",
       "CityTier                       0.916583\n",
       "DurationOfPitch                8.519643\n",
       "NumberOfPersonVisiting         0.724891\n",
       "NumberOfFollowups              1.002509\n",
       "PreferredPropertyStar          0.798009\n",
       "NumberOfTrips                  1.849019\n",
       "Passport                       0.454232\n",
       "PitchSatisfactionScore         1.365792\n",
       "OwnCar                         0.485363\n",
       "NumberOfChildrenVisiting       0.857861\n",
       "MonthlyIncome               5380.698361\n",
       "dtype: float64"
      ]
     },
     "execution_count": 44,
     "metadata": {},
     "output_type": "execute_result"
    }
   ],
   "source": [
    "# Standard deviation for individual features\n",
    "data_numerical.std()"
   ]
  },
  {
   "cell_type": "code",
   "execution_count": null,
   "id": "b64da5ae-a43c-444e-8b1f-35684f551a6a",
   "metadata": {},
   "outputs": [],
   "source": []
  }
 ],
 "metadata": {
  "kernelspec": {
   "display_name": "Python 3 (ipykernel)",
   "language": "python",
   "name": "python3"
  },
  "language_info": {
   "codemirror_mode": {
    "name": "ipython",
    "version": 3
   },
   "file_extension": ".py",
   "mimetype": "text/x-python",
   "name": "python",
   "nbconvert_exporter": "python",
   "pygments_lexer": "ipython3",
   "version": "3.11.4"
  }
 },
 "nbformat": 4,
 "nbformat_minor": 5
}
