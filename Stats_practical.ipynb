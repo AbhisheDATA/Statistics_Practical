{
 "cells": [
  {
   "cell_type": "code",
   "execution_count": 2,
   "id": "58b8dc43-2c7d-4473-aa98-d5e938ab4078",
   "metadata": {},
   "outputs": [],
   "source": [
    "import numpy as np\n",
    "import seaborn as sns\n",
    "import pandas as pd\n",
    "import statistics as stat\n",
    "import random\n",
    "import matplotlib.pyplot as plt"
   ]
  },
  {
   "cell_type": "markdown",
   "id": "e513f70d-2092-45a4-a8ac-dddbb58218c1",
   "metadata": {},
   "source": [
    "Load Dataset\n"
   ]
  },
  {
   "cell_type": "code",
   "execution_count": 4,
   "id": "41f2a8d1-fc8b-4c1f-be2e-c88cbc51b82e",
   "metadata": {},
   "outputs": [],
   "source": [
    "df=sns.load_dataset(\"tips\")"
   ]
  },
  {
   "cell_type": "code",
   "execution_count": 5,
   "id": "66581bd5-4a48-4790-a41a-633c6ff20f82",
   "metadata": {},
   "outputs": [
    {
     "data": {
      "text/html": [
       "<div>\n",
       "<style scoped>\n",
       "    .dataframe tbody tr th:only-of-type {\n",
       "        vertical-align: middle;\n",
       "    }\n",
       "\n",
       "    .dataframe tbody tr th {\n",
       "        vertical-align: top;\n",
       "    }\n",
       "\n",
       "    .dataframe thead th {\n",
       "        text-align: right;\n",
       "    }\n",
       "</style>\n",
       "<table border=\"1\" class=\"dataframe\">\n",
       "  <thead>\n",
       "    <tr style=\"text-align: right;\">\n",
       "      <th></th>\n",
       "      <th>total_bill</th>\n",
       "      <th>tip</th>\n",
       "      <th>sex</th>\n",
       "      <th>smoker</th>\n",
       "      <th>day</th>\n",
       "      <th>time</th>\n",
       "      <th>size</th>\n",
       "    </tr>\n",
       "  </thead>\n",
       "  <tbody>\n",
       "    <tr>\n",
       "      <th>0</th>\n",
       "      <td>16.99</td>\n",
       "      <td>1.01</td>\n",
       "      <td>Female</td>\n",
       "      <td>No</td>\n",
       "      <td>Sun</td>\n",
       "      <td>Dinner</td>\n",
       "      <td>2</td>\n",
       "    </tr>\n",
       "    <tr>\n",
       "      <th>1</th>\n",
       "      <td>10.34</td>\n",
       "      <td>1.66</td>\n",
       "      <td>Male</td>\n",
       "      <td>No</td>\n",
       "      <td>Sun</td>\n",
       "      <td>Dinner</td>\n",
       "      <td>3</td>\n",
       "    </tr>\n",
       "    <tr>\n",
       "      <th>2</th>\n",
       "      <td>21.01</td>\n",
       "      <td>3.50</td>\n",
       "      <td>Male</td>\n",
       "      <td>No</td>\n",
       "      <td>Sun</td>\n",
       "      <td>Dinner</td>\n",
       "      <td>3</td>\n",
       "    </tr>\n",
       "    <tr>\n",
       "      <th>3</th>\n",
       "      <td>23.68</td>\n",
       "      <td>3.31</td>\n",
       "      <td>Male</td>\n",
       "      <td>No</td>\n",
       "      <td>Sun</td>\n",
       "      <td>Dinner</td>\n",
       "      <td>2</td>\n",
       "    </tr>\n",
       "    <tr>\n",
       "      <th>4</th>\n",
       "      <td>24.59</td>\n",
       "      <td>3.61</td>\n",
       "      <td>Female</td>\n",
       "      <td>No</td>\n",
       "      <td>Sun</td>\n",
       "      <td>Dinner</td>\n",
       "      <td>4</td>\n",
       "    </tr>\n",
       "  </tbody>\n",
       "</table>\n",
       "</div>"
      ],
      "text/plain": [
       "   total_bill   tip     sex smoker  day    time  size\n",
       "0       16.99  1.01  Female     No  Sun  Dinner     2\n",
       "1       10.34  1.66    Male     No  Sun  Dinner     3\n",
       "2       21.01  3.50    Male     No  Sun  Dinner     3\n",
       "3       23.68  3.31    Male     No  Sun  Dinner     2\n",
       "4       24.59  3.61  Female     No  Sun  Dinner     4"
      ]
     },
     "execution_count": 5,
     "metadata": {},
     "output_type": "execute_result"
    }
   ],
   "source": [
    "df.head()\n"
   ]
  },
  {
   "cell_type": "code",
   "execution_count": 6,
   "id": "5f851d2b-f426-4459-99c4-1c8b2af298e4",
   "metadata": {},
   "outputs": [
    {
     "data": {
      "text/html": [
       "<div>\n",
       "<style scoped>\n",
       "    .dataframe tbody tr th:only-of-type {\n",
       "        vertical-align: middle;\n",
       "    }\n",
       "\n",
       "    .dataframe tbody tr th {\n",
       "        vertical-align: top;\n",
       "    }\n",
       "\n",
       "    .dataframe thead th {\n",
       "        text-align: right;\n",
       "    }\n",
       "</style>\n",
       "<table border=\"1\" class=\"dataframe\">\n",
       "  <thead>\n",
       "    <tr style=\"text-align: right;\">\n",
       "      <th></th>\n",
       "      <th>total_bill</th>\n",
       "      <th>tip</th>\n",
       "      <th>sex</th>\n",
       "      <th>smoker</th>\n",
       "      <th>day</th>\n",
       "      <th>time</th>\n",
       "      <th>size</th>\n",
       "    </tr>\n",
       "  </thead>\n",
       "  <tbody>\n",
       "    <tr>\n",
       "      <th>0</th>\n",
       "      <td>16.99</td>\n",
       "      <td>1.01</td>\n",
       "      <td>Female</td>\n",
       "      <td>No</td>\n",
       "      <td>Sun</td>\n",
       "      <td>Dinner</td>\n",
       "      <td>2</td>\n",
       "    </tr>\n",
       "    <tr>\n",
       "      <th>1</th>\n",
       "      <td>10.34</td>\n",
       "      <td>1.66</td>\n",
       "      <td>Male</td>\n",
       "      <td>No</td>\n",
       "      <td>Sun</td>\n",
       "      <td>Dinner</td>\n",
       "      <td>3</td>\n",
       "    </tr>\n",
       "    <tr>\n",
       "      <th>2</th>\n",
       "      <td>21.01</td>\n",
       "      <td>3.50</td>\n",
       "      <td>Male</td>\n",
       "      <td>No</td>\n",
       "      <td>Sun</td>\n",
       "      <td>Dinner</td>\n",
       "      <td>3</td>\n",
       "    </tr>\n",
       "    <tr>\n",
       "      <th>3</th>\n",
       "      <td>23.68</td>\n",
       "      <td>3.31</td>\n",
       "      <td>Male</td>\n",
       "      <td>No</td>\n",
       "      <td>Sun</td>\n",
       "      <td>Dinner</td>\n",
       "      <td>2</td>\n",
       "    </tr>\n",
       "    <tr>\n",
       "      <th>4</th>\n",
       "      <td>24.59</td>\n",
       "      <td>3.61</td>\n",
       "      <td>Female</td>\n",
       "      <td>No</td>\n",
       "      <td>Sun</td>\n",
       "      <td>Dinner</td>\n",
       "      <td>4</td>\n",
       "    </tr>\n",
       "    <tr>\n",
       "      <th>5</th>\n",
       "      <td>25.29</td>\n",
       "      <td>4.71</td>\n",
       "      <td>Male</td>\n",
       "      <td>No</td>\n",
       "      <td>Sun</td>\n",
       "      <td>Dinner</td>\n",
       "      <td>4</td>\n",
       "    </tr>\n",
       "    <tr>\n",
       "      <th>6</th>\n",
       "      <td>8.77</td>\n",
       "      <td>2.00</td>\n",
       "      <td>Male</td>\n",
       "      <td>No</td>\n",
       "      <td>Sun</td>\n",
       "      <td>Dinner</td>\n",
       "      <td>2</td>\n",
       "    </tr>\n",
       "    <tr>\n",
       "      <th>7</th>\n",
       "      <td>26.88</td>\n",
       "      <td>3.12</td>\n",
       "      <td>Male</td>\n",
       "      <td>No</td>\n",
       "      <td>Sun</td>\n",
       "      <td>Dinner</td>\n",
       "      <td>4</td>\n",
       "    </tr>\n",
       "    <tr>\n",
       "      <th>8</th>\n",
       "      <td>15.04</td>\n",
       "      <td>1.96</td>\n",
       "      <td>Male</td>\n",
       "      <td>No</td>\n",
       "      <td>Sun</td>\n",
       "      <td>Dinner</td>\n",
       "      <td>2</td>\n",
       "    </tr>\n",
       "    <tr>\n",
       "      <th>9</th>\n",
       "      <td>14.78</td>\n",
       "      <td>3.23</td>\n",
       "      <td>Male</td>\n",
       "      <td>No</td>\n",
       "      <td>Sun</td>\n",
       "      <td>Dinner</td>\n",
       "      <td>2</td>\n",
       "    </tr>\n",
       "    <tr>\n",
       "      <th>10</th>\n",
       "      <td>10.27</td>\n",
       "      <td>1.71</td>\n",
       "      <td>Male</td>\n",
       "      <td>No</td>\n",
       "      <td>Sun</td>\n",
       "      <td>Dinner</td>\n",
       "      <td>2</td>\n",
       "    </tr>\n",
       "    <tr>\n",
       "      <th>11</th>\n",
       "      <td>35.26</td>\n",
       "      <td>5.00</td>\n",
       "      <td>Female</td>\n",
       "      <td>No</td>\n",
       "      <td>Sun</td>\n",
       "      <td>Dinner</td>\n",
       "      <td>4</td>\n",
       "    </tr>\n",
       "    <tr>\n",
       "      <th>12</th>\n",
       "      <td>15.42</td>\n",
       "      <td>1.57</td>\n",
       "      <td>Male</td>\n",
       "      <td>No</td>\n",
       "      <td>Sun</td>\n",
       "      <td>Dinner</td>\n",
       "      <td>2</td>\n",
       "    </tr>\n",
       "    <tr>\n",
       "      <th>13</th>\n",
       "      <td>18.43</td>\n",
       "      <td>3.00</td>\n",
       "      <td>Male</td>\n",
       "      <td>No</td>\n",
       "      <td>Sun</td>\n",
       "      <td>Dinner</td>\n",
       "      <td>4</td>\n",
       "    </tr>\n",
       "    <tr>\n",
       "      <th>14</th>\n",
       "      <td>14.83</td>\n",
       "      <td>3.02</td>\n",
       "      <td>Female</td>\n",
       "      <td>No</td>\n",
       "      <td>Sun</td>\n",
       "      <td>Dinner</td>\n",
       "      <td>2</td>\n",
       "    </tr>\n",
       "    <tr>\n",
       "      <th>15</th>\n",
       "      <td>21.58</td>\n",
       "      <td>3.92</td>\n",
       "      <td>Male</td>\n",
       "      <td>No</td>\n",
       "      <td>Sun</td>\n",
       "      <td>Dinner</td>\n",
       "      <td>2</td>\n",
       "    </tr>\n",
       "    <tr>\n",
       "      <th>16</th>\n",
       "      <td>10.33</td>\n",
       "      <td>1.67</td>\n",
       "      <td>Female</td>\n",
       "      <td>No</td>\n",
       "      <td>Sun</td>\n",
       "      <td>Dinner</td>\n",
       "      <td>3</td>\n",
       "    </tr>\n",
       "    <tr>\n",
       "      <th>17</th>\n",
       "      <td>16.29</td>\n",
       "      <td>3.71</td>\n",
       "      <td>Male</td>\n",
       "      <td>No</td>\n",
       "      <td>Sun</td>\n",
       "      <td>Dinner</td>\n",
       "      <td>3</td>\n",
       "    </tr>\n",
       "    <tr>\n",
       "      <th>18</th>\n",
       "      <td>16.97</td>\n",
       "      <td>3.50</td>\n",
       "      <td>Female</td>\n",
       "      <td>No</td>\n",
       "      <td>Sun</td>\n",
       "      <td>Dinner</td>\n",
       "      <td>3</td>\n",
       "    </tr>\n",
       "    <tr>\n",
       "      <th>19</th>\n",
       "      <td>20.65</td>\n",
       "      <td>3.35</td>\n",
       "      <td>Male</td>\n",
       "      <td>No</td>\n",
       "      <td>Sat</td>\n",
       "      <td>Dinner</td>\n",
       "      <td>3</td>\n",
       "    </tr>\n",
       "  </tbody>\n",
       "</table>\n",
       "</div>"
      ],
      "text/plain": [
       "    total_bill   tip     sex smoker  day    time  size\n",
       "0        16.99  1.01  Female     No  Sun  Dinner     2\n",
       "1        10.34  1.66    Male     No  Sun  Dinner     3\n",
       "2        21.01  3.50    Male     No  Sun  Dinner     3\n",
       "3        23.68  3.31    Male     No  Sun  Dinner     2\n",
       "4        24.59  3.61  Female     No  Sun  Dinner     4\n",
       "5        25.29  4.71    Male     No  Sun  Dinner     4\n",
       "6         8.77  2.00    Male     No  Sun  Dinner     2\n",
       "7        26.88  3.12    Male     No  Sun  Dinner     4\n",
       "8        15.04  1.96    Male     No  Sun  Dinner     2\n",
       "9        14.78  3.23    Male     No  Sun  Dinner     2\n",
       "10       10.27  1.71    Male     No  Sun  Dinner     2\n",
       "11       35.26  5.00  Female     No  Sun  Dinner     4\n",
       "12       15.42  1.57    Male     No  Sun  Dinner     2\n",
       "13       18.43  3.00    Male     No  Sun  Dinner     4\n",
       "14       14.83  3.02  Female     No  Sun  Dinner     2\n",
       "15       21.58  3.92    Male     No  Sun  Dinner     2\n",
       "16       10.33  1.67  Female     No  Sun  Dinner     3\n",
       "17       16.29  3.71    Male     No  Sun  Dinner     3\n",
       "18       16.97  3.50  Female     No  Sun  Dinner     3\n",
       "19       20.65  3.35    Male     No  Sat  Dinner     3"
      ]
     },
     "execution_count": 6,
     "metadata": {},
     "output_type": "execute_result"
    }
   ],
   "source": [
    "df.head(20)"
   ]
  },
  {
   "cell_type": "code",
   "execution_count": 8,
   "id": "9f49381a-13f9-45e9-81f9-4631a30c2a41",
   "metadata": {},
   "outputs": [
    {
     "data": {
      "text/plain": [
       "Index(['total_bill', 'tip', 'sex', 'smoker', 'day', 'time', 'size'], dtype='object')"
      ]
     },
     "execution_count": 8,
     "metadata": {},
     "output_type": "execute_result"
    }
   ],
   "source": [
    "df.columns"
   ]
  },
  {
   "cell_type": "code",
   "execution_count": 9,
   "id": "ab4d05f9-70db-4c35-b559-d3250a7190cc",
   "metadata": {},
   "outputs": [
    {
     "data": {
      "text/html": [
       "<div>\n",
       "<style scoped>\n",
       "    .dataframe tbody tr th:only-of-type {\n",
       "        vertical-align: middle;\n",
       "    }\n",
       "\n",
       "    .dataframe tbody tr th {\n",
       "        vertical-align: top;\n",
       "    }\n",
       "\n",
       "    .dataframe thead th {\n",
       "        text-align: right;\n",
       "    }\n",
       "</style>\n",
       "<table border=\"1\" class=\"dataframe\">\n",
       "  <thead>\n",
       "    <tr style=\"text-align: right;\">\n",
       "      <th></th>\n",
       "      <th>total_bill</th>\n",
       "      <th>tip</th>\n",
       "      <th>size</th>\n",
       "    </tr>\n",
       "  </thead>\n",
       "  <tbody>\n",
       "    <tr>\n",
       "      <th>0</th>\n",
       "      <td>16.99</td>\n",
       "      <td>1.01</td>\n",
       "      <td>2</td>\n",
       "    </tr>\n",
       "    <tr>\n",
       "      <th>1</th>\n",
       "      <td>10.34</td>\n",
       "      <td>1.66</td>\n",
       "      <td>3</td>\n",
       "    </tr>\n",
       "    <tr>\n",
       "      <th>2</th>\n",
       "      <td>21.01</td>\n",
       "      <td>3.50</td>\n",
       "      <td>3</td>\n",
       "    </tr>\n",
       "    <tr>\n",
       "      <th>3</th>\n",
       "      <td>23.68</td>\n",
       "      <td>3.31</td>\n",
       "      <td>2</td>\n",
       "    </tr>\n",
       "    <tr>\n",
       "      <th>4</th>\n",
       "      <td>24.59</td>\n",
       "      <td>3.61</td>\n",
       "      <td>4</td>\n",
       "    </tr>\n",
       "  </tbody>\n",
       "</table>\n",
       "</div>"
      ],
      "text/plain": [
       "   total_bill   tip  size\n",
       "0       16.99  1.01     2\n",
       "1       10.34  1.66     3\n",
       "2       21.01  3.50     3\n",
       "3       23.68  3.31     2\n",
       "4       24.59  3.61     4"
      ]
     },
     "execution_count": 9,
     "metadata": {},
     "output_type": "execute_result"
    }
   ],
   "source": [
    "df_numeric_data=df[df.dtypes[df.dtypes !='category'].index]\n",
    "df_numeric_data.head()"
   ]
  },
  {
   "cell_type": "markdown",
   "id": "7a086a7e-882b-411c-bc4c-9aef17ebb1ba",
   "metadata": {},
   "source": [
    "<h1>1.0 Measure of central Tendency</h1>"
   ]
  },
  {
   "cell_type": "markdown",
   "id": "392e8210-f33d-40b9-8062-f3285fc62259",
   "metadata": {},
   "source": [
    "<h3>Mean of all numeric column</h3>"
   ]
  },
  {
   "cell_type": "code",
   "execution_count": 10,
   "id": "a67f9fe0-ce0a-4b35-a937-46201a7eaad6",
   "metadata": {},
   "outputs": [
    {
     "data": {
      "text/plain": [
       "total_bill    19.785943\n",
       "tip            2.998279\n",
       "size           2.569672\n",
       "dtype: float64"
      ]
     },
     "execution_count": 10,
     "metadata": {},
     "output_type": "execute_result"
    }
   ],
   "source": [
    "np.mean(df_numeric_data,axis=0)"
   ]
  },
  {
   "cell_type": "markdown",
   "id": "02078ca6-8a46-408d-ad3c-5897e6a97e11",
   "metadata": {},
   "source": [
    "<h3>Median of all numeric column</h3>"
   ]
  },
  {
   "cell_type": "code",
   "execution_count": 11,
   "id": "78335960-99a8-4ca3-8f24-30590f5f2d9c",
   "metadata": {},
   "outputs": [
    {
     "data": {
      "text/plain": [
       "array([17.795,  2.9  ,  2.   ])"
      ]
     },
     "execution_count": 11,
     "metadata": {},
     "output_type": "execute_result"
    }
   ],
   "source": [
    "np.median(df_numeric_data,axis=0)"
   ]
  },
  {
   "cell_type": "markdown",
   "id": "6cd03b5f-8a59-4dd2-8f1a-a317d7e597e1",
   "metadata": {},
   "source": [
    "for column in df.columns:\n",
    "    # Use the stats.mode function to calculate the mode\n",
    "    mode_result = stat.mode(df[column])\n",
    "    \n",
    "    \n",
    "    \n",
    "    # Print the mode for the current column\n",
    "    print(f\"Mode of {column}: {mode_result}\")\n"
   ]
  },
  {
   "cell_type": "markdown",
   "id": "e82b194d-8549-46e9-9b7d-5f749a26420c",
   "metadata": {},
   "source": [
    "<h1>2.0 Measure of dispersion</h1>"
   ]
  },
  {
   "cell_type": "markdown",
   "id": "5da8aa32-a0e2-4aea-bb2d-799872dd7489",
   "metadata": {},
   "source": [
    "<h3>2.1 Variance</h3>"
   ]
  },
  {
   "cell_type": "code",
   "execution_count": 17,
   "id": "2565f6b9-f9d1-469e-a9a2-e8ea5cf25f17",
   "metadata": {},
   "outputs": [
    {
     "name": "stdout",
     "output_type": "stream",
     "text": [
      "variance of total_bill:79.25293861397827\n",
      "variance of tip:1.9144546380624705\n",
      "variance of size:0.9045908385616946\n"
     ]
    }
   ],
   "source": [
    "for column in df_numeric_data.columns:\n",
    "    result=stat.variance(df_numeric_data[column])\n",
    "    print(f\"variance of {column}:{result}\")"
   ]
  },
  {
   "cell_type": "markdown",
   "id": "4bc17d03-a242-435c-828a-ade12b9162c3",
   "metadata": {},
   "source": [
    "<h3>2.2 standard deviation</h3>"
   ]
  },
  {
   "cell_type": "code",
   "execution_count": 18,
   "id": "cd64d34c-1687-48ca-9db0-3c17fb4a8794",
   "metadata": {},
   "outputs": [
    {
     "name": "stdout",
     "output_type": "stream",
     "text": [
      "Standard deviation of total_bill:8.902411954856856\n",
      "Standard deviation of tip:1.383638189001182\n",
      "Standard deviation of size:0.9510998047322345\n"
     ]
    }
   ],
   "source": [
    "for column in df_numeric_data.columns:\n",
    "    result=stat.stdev(df_numeric_data[column])\n",
    "    print(f\"Standard deviation of {column}:{result}\")"
   ]
  },
  {
   "cell_type": "markdown",
   "id": "ca41bdbe-aedd-4ec3-b622-11ebae1a6892",
   "metadata": {},
   "source": [
    "<h1>3.0 Five Point Summary</h1>"
   ]
  },
  {
   "cell_type": "markdown",
   "id": "7795f9ed-3dd4-4757-ab7e-7550c650b16c",
   "metadata": {},
   "source": [
    "<h3>3.1 For total bill column</h3>"
   ]
  },
  {
   "cell_type": "code",
   "execution_count": 19,
   "id": "e744ff6a-2f13-4d56-bbc9-4a88160e99b7",
   "metadata": {},
   "outputs": [
    {
     "data": {
      "text/plain": [
       "3.07"
      ]
     },
     "execution_count": 19,
     "metadata": {},
     "output_type": "execute_result"
    }
   ],
   "source": [
    "df_numeric_data['total_bill'].min() # zeroth Percentile or minimum value"
   ]
  },
  {
   "cell_type": "code",
   "execution_count": 21,
   "id": "62e1978c-8505-4a4b-8781-7fe8c6939816",
   "metadata": {},
   "outputs": [
    {
     "data": {
      "text/plain": [
       "13.3475"
      ]
     },
     "execution_count": 21,
     "metadata": {},
     "output_type": "execute_result"
    }
   ],
   "source": [
    "np.percentile(df_numeric_data['total_bill'], 25) # 1st quartile"
   ]
  },
  {
   "cell_type": "code",
   "execution_count": 22,
   "id": "5403fee3-edfe-4543-8131-9bde51a47613",
   "metadata": {},
   "outputs": [
    {
     "data": {
      "text/plain": [
       "17.795"
      ]
     },
     "execution_count": 22,
     "metadata": {},
     "output_type": "execute_result"
    }
   ],
   "source": [
    "np.percentile(df_numeric_data['total_bill'], 50) # 2nd quartile or median"
   ]
  },
  {
   "cell_type": "code",
   "execution_count": 23,
   "id": "78912b80-a32b-433f-9c42-a74067463043",
   "metadata": {},
   "outputs": [
    {
     "data": {
      "text/plain": [
       "24.127499999999998"
      ]
     },
     "execution_count": 23,
     "metadata": {},
     "output_type": "execute_result"
    }
   ],
   "source": [
    "np.percentile(df_numeric_data['total_bill'], 75) # 3rd quartile"
   ]
  },
  {
   "cell_type": "code",
   "execution_count": 24,
   "id": "6f174838-c0ae-48dc-a2bf-807a7246b5ca",
   "metadata": {},
   "outputs": [
    {
     "data": {
      "text/plain": [
       "50.81"
      ]
     },
     "execution_count": 24,
     "metadata": {},
     "output_type": "execute_result"
    }
   ],
   "source": [
    "df_numeric_data['total_bill'].max() # 100th Percentile or maximum value"
   ]
  },
  {
   "cell_type": "raw",
   "id": "7bfd78b7-c418-4d00-8a98-7bf10ee6a778",
   "metadata": {},
   "source": [
    "From the above we can find the  all left column five point summary like that"
   ]
  },
  {
   "cell_type": "markdown",
   "id": "81740013-5284-4790-8675-f60bf153028e",
   "metadata": {},
   "source": [
    "<h1>4.0 Box plot</h1>"
   ]
  },
  {
   "cell_type": "markdown",
   "id": "0d4faafe-5795-4de4-ab7d-629f9a55e702",
   "metadata": {},
   "source": [
    "<h4>Box plot for te total bill column</h4>"
   ]
  },
  {
   "cell_type": "code",
   "execution_count": 32,
   "id": "d761667e-1700-43fb-aaf0-32afe43ced9d",
   "metadata": {},
   "outputs": [
    {
     "data": {
      "text/plain": [
       "<Axes: >"
      ]
     },
     "execution_count": 32,
     "metadata": {},
     "output_type": "execute_result"
    },
    {
     "data": {
      "image/png": "[encoded data removed]",
      "text/plain": [
       "<Figure size 1000x300 with 1 Axes>"
      ]
     },
     "metadata": {},
     "output_type": "display_data"
    }
   ],
   "source": [
    "sns.set(rc={'figure.figsize':(10,3)})\n",
    "sns.boxplot(data = df_numeric_data['total_bill'], orient=\"h\")"
   ]
  },
  {
   "cell_type": "markdown",
   "id": "b920c35e-238a-46b6-baf3-c694f85bbc24",
   "metadata": {},
   "source": [
    "<h4>Box plot for Tip</h4>"
   ]
  },
  {
   "cell_type": "code",
   "execution_count": 33,
   "id": "ea706224-8200-460b-9ce5-5bdf47b249c1",
   "metadata": {},
   "outputs": [
    {
     "data": {
      "text/plain": [
       "<Axes: >"
      ]
     },
     "execution_count": 33,
     "metadata": {},
     "output_type": "execute_result"
    },
    {
     "data": {
      "image/png": "[encoded data removed]",
      "text/plain": [
       "<Figure size 1000x300 with 1 Axes>"
      ]
     },
     "metadata": {},
     "output_type": "display_data"
    }
   ],
   "source": [
    "sns.set(rc={'figure.figsize':(10,3)})\n",
    "sns.boxplot(data=df_numeric_data[\"tip\"],orient='h')"
   ]
  },
  {
   "cell_type": "markdown",
   "id": "8f248e72-fcf0-429a-bf19-058cabf6cbf0",
   "metadata": {},
   "source": [
    "<h4>Box plot for Size</h4>"
   ]
  },
  {
   "cell_type": "code",
   "execution_count": 35,
   "id": "9342ef9e-f89d-48ed-8687-1df6e31719f5",
   "metadata": {},
   "outputs": [
    {
     "data": {
      "text/plain": [
       "<Axes: >"
      ]
     },
     "execution_count": 35,
     "metadata": {},
     "output_type": "execute_result"
    },
    {
     "data": {
      "image/png": "[encoded data removed]",
      "text/plain": [
       "<Figure size 1000x300 with 1 Axes>"
      ]
     },
     "metadata": {},
     "output_type": "display_data"
    }
   ],
   "source": [
    "sns.set(rc={'figure.figsize':(10,3)})\n",
    "sns.boxplot(data = df_numeric_data['size'], orient=\"h\")"
   ]
  },
  {
   "cell_type": "markdown",
   "id": "48df0482-9b27-4297-91b5-7b879f4730fc",
   "metadata": {},
   "source": [
    "<h4>Box plot combined of all column</h4>"
   ]
  },
  {
   "cell_type": "code",
   "execution_count": 39,
   "id": "6e154c89-608c-4b56-ad1d-73eb119c077d",
   "metadata": {},
   "outputs": [
    {
     "data": {
      "text/plain": [
       "<Axes: >"
      ]
     },
     "execution_count": 39,
     "metadata": {},
     "output_type": "execute_result"
    },
    {
     "data": {
      "image/png": "[encoded data removed]",
      "text/plain": [
       "<Figure size 1300x800 with 1 Axes>"
      ]
     },
     "metadata": {},
     "output_type": "display_data"
    }
   ],
   "source": [
    "sns.set(rc={'figure.figsize':(13,8)})\n",
    "sns.boxplot(data = df_numeric_data, orient=\"v\")\n"
   ]
  },
  {
   "cell_type": "markdown",
   "id": "137503a2-7785-49bb-8104-16d6b6795831",
   "metadata": {},
   "source": [
    "<h1>5.0 Histogram and Distribution</h1>"
   ]
  },
  {
   "cell_type": "markdown",
   "id": "fc50ca73-23d6-41f1-8cc5-557204272f74",
   "metadata": {},
   "source": [
    "<h4>5.1 Histogram and distribution for total_bill</h4>"
   ]
  },
  {
   "cell_type": "code",
   "execution_count": 46,
   "id": "843cfb58-33ac-4f3c-8265-46c04cb51df1",
   "metadata": {},
   "outputs": [
    {
     "data": {
      "text/plain": [
       "<Axes: xlabel='total_bill', ylabel='Count'>"
      ]
     },
     "execution_count": 46,
     "metadata": {},
     "output_type": "execute_result"
    },
    {
     "data": {
      "image/png": "[encoded data removed]",
      "text/plain": [
       "<Figure size 1000x400 with 1 Axes>"
      ]
     },
     "metadata": {},
     "output_type": "display_data"
    }
   ],
   "source": [
    "sns.set(rc={'figure.figsize':(10,4)})\n",
    "sns.histplot(df_numeric_data['total_bill'], kde=True)"
   ]
  },
  {
   "cell_type": "markdown",
   "id": "342e87c6-3aec-458b-90fe-523f9e9240f0",
   "metadata": {},
   "source": [
    "<h4>5.1 Histogram and distribution for tip</h4>"
   ]
  },
  {
   "cell_type": "code",
   "execution_count": 47,
   "id": "106d7ed2-c2b6-4c96-9b7c-10461fffc8e1",
   "metadata": {},
   "outputs": [
    {
     "data": {
      "text/plain": [
       "<Axes: xlabel='tip', ylabel='Count'>"
      ]
     },
     "execution_count": 47,
     "metadata": {},
     "output_type": "execute_result"
    },
    {
     "data": {
      "image/png": "[encoded data removed]",
      "text/plain": [
       "<Figure size 1000x400 with 1 Axes>"
      ]
     },
     "metadata": {},
     "output_type": "display_data"
    }
   ],
   "source": [
    "sns.set(rc={'figure.figsize':(10,4)})\n",
    "sns.histplot(df_numeric_data['tip'], kde=True)"
   ]
  },
  {
   "cell_type": "markdown",
   "id": "518414be-5867-49cd-be60-26e021fbb381",
   "metadata": {},
   "source": [
    "<h1>6.0 Standardization</h1>"
   ]
  },
  {
   "cell_type": "raw",
   "id": "8131e68d-fc67-4de3-afdb-e557817870a2",
   "metadata": {},
   "source": [
    "Standardization (also known as z-score normalization or z-score standardization) is a preprocessing technique used in statistics and machine learning to transform numerical features or variables of different scales and units into a common scale. The goal of standardization is to make the data more suitable for modeling, particularly for algorithms that are sensitive to the scale of the input features. It involves subtracting the mean and dividing by the standard deviation for each feature."
   ]
  },
  {
   "cell_type": "markdown",
   "id": "bd1c47f1-dd15-493d-8d0b-10d2afae94bb",
   "metadata": {},
   "source": [
    "<h4>Standardisation of dataset</h4>"
   ]
  },
  {
   "cell_type": "code",
   "execution_count": 50,
   "id": "b7d97526-bbc8-4630-b388-f398ec79a250",
   "metadata": {},
   "outputs": [],
   "source": [
    "df_numeric_data_std = (df_numeric_data - df_numeric_data.mean())/df_numeric_data.std()"
   ]
  },
  {
   "cell_type": "code",
   "execution_count": 51,
   "id": "3ea998b8-126e-44d9-9f26-b94bc95daf18",
   "metadata": {},
   "outputs": [
    {
     "data": {
      "text/html": [
       "<div>\n",
       "<style scoped>\n",
       "    .dataframe tbody tr th:only-of-type {\n",
       "        vertical-align: middle;\n",
       "    }\n",
       "\n",
       "    .dataframe tbody tr th {\n",
       "        vertical-align: top;\n",
       "    }\n",
       "\n",
       "    .dataframe thead th {\n",
       "        text-align: right;\n",
       "    }\n",
       "</style>\n",
       "<table border=\"1\" class=\"dataframe\">\n",
       "  <thead>\n",
       "    <tr style=\"text-align: right;\">\n",
       "      <th></th>\n",
       "      <th>total_bill</th>\n",
       "      <th>tip</th>\n",
       "      <th>size</th>\n",
       "    </tr>\n",
       "  </thead>\n",
       "  <tbody>\n",
       "    <tr>\n",
       "      <th>0</th>\n",
       "      <td>-0.314066</td>\n",
       "      <td>-1.436993</td>\n",
       "      <td>-0.598961</td>\n",
       "    </tr>\n",
       "    <tr>\n",
       "      <th>1</th>\n",
       "      <td>-1.061054</td>\n",
       "      <td>-0.967217</td>\n",
       "      <td>0.452453</td>\n",
       "    </tr>\n",
       "    <tr>\n",
       "      <th>2</th>\n",
       "      <td>0.137497</td>\n",
       "      <td>0.362610</td>\n",
       "      <td>0.452453</td>\n",
       "    </tr>\n",
       "    <tr>\n",
       "      <th>3</th>\n",
       "      <td>0.437416</td>\n",
       "      <td>0.225291</td>\n",
       "      <td>-0.598961</td>\n",
       "    </tr>\n",
       "    <tr>\n",
       "      <th>4</th>\n",
       "      <td>0.539635</td>\n",
       "      <td>0.442111</td>\n",
       "      <td>1.503867</td>\n",
       "    </tr>\n",
       "  </tbody>\n",
       "</table>\n",
       "</div>"
      ],
      "text/plain": [
       "   total_bill       tip      size\n",
       "0   -0.314066 -1.436993 -0.598961\n",
       "1   -1.061054 -0.967217  0.452453\n",
       "2    0.137497  0.362610  0.452453\n",
       "3    0.437416  0.225291 -0.598961\n",
       "4    0.539635  0.442111  1.503867"
      ]
     },
     "execution_count": 51,
     "metadata": {},
     "output_type": "execute_result"
    }
   ],
   "source": [
    "df_numeric_data_std.head()"
   ]
  },
  {
   "cell_type": "markdown",
   "id": "cdba3b8f-ea6a-41b5-ad93-6dbd0bb25b9d",
   "metadata": {},
   "source": [
    "<h4>6.2 mean and standard deviation of standardized dataset</h4>"
   ]
  },
  {
   "cell_type": "code",
   "execution_count": 52,
   "id": "acf842b6-ab21-404b-8c6c-a02aab6bf193",
   "metadata": {},
   "outputs": [
    {
     "data": {
      "text/plain": [
       "total_bill   -0.0\n",
       "tip           0.0\n",
       "size         -0.0\n",
       "dtype: float64"
      ]
     },
     "execution_count": 52,
     "metadata": {},
     "output_type": "execute_result"
    }
   ],
   "source": [
    "round(df_numeric_data_std.mean(), 2)"
   ]
  },
  {
   "cell_type": "code",
   "execution_count": 53,
   "id": "647d1325-3dd2-4947-bd0e-186b1b4fb785",
   "metadata": {},
   "outputs": [
    {
     "data": {
      "text/plain": [
       "total_bill    1.0\n",
       "tip           1.0\n",
       "size          1.0\n",
       "dtype: float64"
      ]
     },
     "execution_count": 53,
     "metadata": {},
     "output_type": "execute_result"
    }
   ],
   "source": [
    "df_numeric_data_std.std()"
   ]
  },
  {
   "cell_type": "markdown",
   "id": "b8eaecdf-1071-4754-bade-59eed972f077",
   "metadata": {},
   "source": [
    "<h4>6.3 KDE plot for original datset</h4>"
   ]
  },
  {
   "cell_type": "code",
   "execution_count": 54,
   "id": "9bbc93b3-ed27-4ab3-a52b-ba29c087d745",
   "metadata": {},
   "outputs": [
    {
     "data": {
      "text/plain": [
       "<Axes: ylabel='Density'>"
      ]
     },
     "execution_count": 54,
     "metadata": {},
     "output_type": "execute_result"
    },
    {
     "data": {
      "image/png": "[encoded data removed]",
      "text/plain": [
       "<Figure size 1000x400 with 1 Axes>"
      ]
     },
     "metadata": {},
     "output_type": "display_data"
    }
   ],
   "source": [
    " sns.kdeplot(data = df_numeric_data) # kde plot for numeric data"
   ]
  },
  {
   "cell_type": "markdown",
   "id": "6ac4b781-8458-427a-948b-e543929afa89",
   "metadata": {},
   "source": [
    "<h4>6.3 KDE plot for standardrise datset</h4>"
   ]
  },
  {
   "cell_type": "code",
   "execution_count": 55,
   "id": "2333c0ad-b875-4140-ad02-d67c90b3f94b",
   "metadata": {},
   "outputs": [
    {
     "data": {
      "text/plain": [
       "<Axes: ylabel='Density'>"
      ]
     },
     "execution_count": 55,
     "metadata": {},
     "output_type": "execute_result"
    },
    {
     "data": {
      "image/png": "[encoded data removed]",
      "text/plain": [
       "<Figure size 1000x400 with 1 Axes>"
      ]
     },
     "metadata": {},
     "output_type": "display_data"
    }
   ],
   "source": [
    " sns.kdeplot(data = df_numeric_data_std) # kde plot for numeric data in tips data set after standardization"
   ]
  },
  {
   "cell_type": "markdown",
   "id": "335521d1-18d8-4a9f-8ca4-c34fe1c96088",
   "metadata": {},
   "source": [
    "<h1>7.0 Normalization</h1>"
   ]
  },
  {
   "cell_type": "markdown",
   "id": "b6717c2e-ae12-4299-ab19-c78228e4492e",
   "metadata": {},
   "source": [
    "<h5>Uing Minmax scalar the datapoint will be between o to 1</h5>"
   ]
  },
  {
   "cell_type": "raw",
   "id": "76592793-668c-4a70-89c5-9fd742d5df05",
   "metadata": {},
   "source": [
    "Normalization is a data preprocessing technique used to scale numerical features in a dataset to a specific range, typically between 0 and 1. The goal of normalization is to ensure that all features have similar scales and ranges, which can be particularly important for machine learning algorithms that rely on distance-based calculations or gradient-based optimization. There are several methods for normalization, with the Min-Max scaling method being one of the most common."
   ]
  },
  {
   "cell_type": "markdown",
   "id": "20511312-bdfd-4386-9719-6071e72e3d15",
   "metadata": {},
   "source": [
    "<h4>7.1 normalization of dataset</h4>"
   ]
  },
  {
   "cell_type": "code",
   "execution_count": 56,
   "id": "5b365f7b-b8ff-44af-b18f-7f0cd14807f9",
   "metadata": {},
   "outputs": [
    {
     "data": {
      "text/html": [
       "<div>\n",
       "<style scoped>\n",
       "    .dataframe tbody tr th:only-of-type {\n",
       "        vertical-align: middle;\n",
       "    }\n",
       "\n",
       "    .dataframe tbody tr th {\n",
       "        vertical-align: top;\n",
       "    }\n",
       "\n",
       "    .dataframe thead th {\n",
       "        text-align: right;\n",
       "    }\n",
       "</style>\n",
       "<table border=\"1\" class=\"dataframe\">\n",
       "  <thead>\n",
       "    <tr style=\"text-align: right;\">\n",
       "      <th></th>\n",
       "      <th>total_bill</th>\n",
       "      <th>tip</th>\n",
       "      <th>size</th>\n",
       "    </tr>\n",
       "  </thead>\n",
       "  <tbody>\n",
       "    <tr>\n",
       "      <th>0</th>\n",
       "      <td>0.291579</td>\n",
       "      <td>0.001111</td>\n",
       "      <td>0.2</td>\n",
       "    </tr>\n",
       "    <tr>\n",
       "      <th>1</th>\n",
       "      <td>0.152283</td>\n",
       "      <td>0.073333</td>\n",
       "      <td>0.4</td>\n",
       "    </tr>\n",
       "    <tr>\n",
       "      <th>2</th>\n",
       "      <td>0.375786</td>\n",
       "      <td>0.277778</td>\n",
       "      <td>0.4</td>\n",
       "    </tr>\n",
       "    <tr>\n",
       "      <th>3</th>\n",
       "      <td>0.431713</td>\n",
       "      <td>0.256667</td>\n",
       "      <td>0.2</td>\n",
       "    </tr>\n",
       "    <tr>\n",
       "      <th>4</th>\n",
       "      <td>0.450775</td>\n",
       "      <td>0.290000</td>\n",
       "      <td>0.6</td>\n",
       "    </tr>\n",
       "  </tbody>\n",
       "</table>\n",
       "</div>"
      ],
      "text/plain": [
       "   total_bill       tip  size\n",
       "0    0.291579  0.001111   0.2\n",
       "1    0.152283  0.073333   0.4\n",
       "2    0.375786  0.277778   0.4\n",
       "3    0.431713  0.256667   0.2\n",
       "4    0.450775  0.290000   0.6"
      ]
     },
     "execution_count": 56,
     "metadata": {},
     "output_type": "execute_result"
    }
   ],
   "source": [
    "df_numeric_data_normal=(df_numeric_data-df_numeric_data.min())/(df_numeric_data.max()-df_numeric_data.min())\n",
    "df_numeric_data_normal.head()"
   ]
  },
  {
   "cell_type": "markdown",
   "id": "d15ad162-f6bf-42b0-8121-5873f8f948ba",
   "metadata": {},
   "source": [
    "<h4>7.2 Min,Max,Median,standar deviation of normalised dataset</h4>"
   ]
  },
  {
   "cell_type": "code",
   "execution_count": 62,
   "id": "0854db80-2374-45fa-877b-c2d756f2b085",
   "metadata": {},
   "outputs": [
    {
     "data": {
      "text/plain": [
       "total_bill    0.350145\n",
       "tip           0.222031\n",
       "size          0.313934\n",
       "dtype: float64"
      ]
     },
     "execution_count": 62,
     "metadata": {},
     "output_type": "execute_result"
    }
   ],
   "source": [
    "df_numeric_data_normal.mean()"
   ]
  },
  {
   "cell_type": "code",
   "execution_count": 63,
   "id": "2cfb0b98-1571-491e-ab6a-ae6801a8bc81",
   "metadata": {},
   "outputs": [
    {
     "data": {
      "text/plain": [
       "total_bill    1.0\n",
       "tip           1.0\n",
       "size          1.0\n",
       "dtype: float64"
      ]
     },
     "execution_count": 63,
     "metadata": {},
     "output_type": "execute_result"
    }
   ],
   "source": [
    "df_numeric_data_normal.max()"
   ]
  },
  {
   "cell_type": "code",
   "execution_count": 64,
   "id": "7872397f-01af-4ad7-8e36-e0504486302c",
   "metadata": {},
   "outputs": [
    {
     "data": {
      "text/plain": [
       "total_bill    0.308442\n",
       "tip           0.211111\n",
       "size          0.200000\n",
       "dtype: float64"
      ]
     },
     "execution_count": 64,
     "metadata": {},
     "output_type": "execute_result"
    }
   ],
   "source": [
    "df_numeric_data_normal.median()"
   ]
  },
  {
   "cell_type": "code",
   "execution_count": 65,
   "id": "1d636e1b-2504-4eeb-9c65-8f661218df61",
   "metadata": {},
   "outputs": [
    {
     "data": {
      "text/plain": [
       "total_bill    0.186477\n",
       "tip           0.153738\n",
       "size          0.190220\n",
       "dtype: float64"
      ]
     },
     "execution_count": 65,
     "metadata": {},
     "output_type": "execute_result"
    }
   ],
   "source": [
    "df_numeric_data_normal.std()"
   ]
  },
  {
   "cell_type": "markdown",
   "id": "9bef194b-bfc6-457d-8c1e-5527cf21c6db",
   "metadata": {},
   "source": [
    "<h1>KDE plot for normalised dataset</h1>"
   ]
  },
  {
   "cell_type": "code",
   "execution_count": 66,
   "id": "2404c35d-4cd0-42e3-9ea1-f884f6ac1a01",
   "metadata": {},
   "outputs": [
    {
     "data": {
      "text/plain": [
       "<Axes: ylabel='Density'>"
      ]
     },
     "execution_count": 66,
     "metadata": {},
     "output_type": "execute_result"
    },
    {
     "data": {
      "image/png": "[encoded data removed]",
      "text/plain": [
       "<Figure size 1000x400 with 1 Axes>"
      ]
     },
     "metadata": {},
     "output_type": "display_data"
    }
   ],
   "source": [
    "sns.kdeplot(data = df_numeric_data_normal) # kde plot for numeric data in tips data set after normalization"
   ]
  },
  {
   "cell_type": "markdown",
   "id": "861eaad8-e381-45e4-9d4e-1ad1ff0b3d7e",
   "metadata": {},
   "source": [
    "<h1>Central limit theorem</h1>"
   ]
  },
  {
   "cell_type": "code",
   "execution_count": null,
   "id": "b7fa15ef-7c4a-40df-8004-f19e403e1342",
   "metadata": {},
   "outputs": [],
   "source": []
  }
 ],
 "metadata": {
  "kernelspec": {
   "display_name": "Python 3 (ipykernel)",
   "language": "python",
   "name": "python3"
  },
  "language_info": {
   "codemirror_mode": {
    "name": "ipython",
    "version": 3
   },
   "file_extension": ".py",
   "mimetype": "text/x-python",
   "name": "python",
   "nbconvert_exporter": "python",
   "pygments_lexer": "ipython3",
   "version": "3.11.3"
  }
 },
 "nbformat": 4,
 "nbformat_minor": 5
}
